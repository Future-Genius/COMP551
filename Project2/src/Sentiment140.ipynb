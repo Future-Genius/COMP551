{
  "nbformat": 4,
  "nbformat_minor": 0,
  "metadata": {
    "colab": {
      "name": "Sentiment140.ipynb",
      "provenance": [],
      "collapsed_sections": []
    },
    "kernelspec": {
      "name": "python3",
      "display_name": "Python 3"
    },
    "language_info": {
      "name": "python"
    }
  },
  "cells": [
    {
      "cell_type": "code",
      "execution_count": 3,
      "metadata": {
        "id": "FRmSjajYzCsD"
      },
      "outputs": [],
      "source": [
        "import numpy as np\n",
        "import itertools\n",
        "%matplotlib inline\n",
        "import matplotlib.pyplot as plt\n",
        "import pandas as pd\n",
        "from sklearn import datasets\n",
        "np.random.seed(1234)\n",
        "from random import choice\n",
        "from sklearn.linear_model import LogisticRegression\n",
        "import scipy\n",
        "from collections import Counter\n",
        "from math import log\n",
        "import numpy as np\n",
        "from scipy import sparse\n",
        "from typing import AsyncContextManager"
      ]
    },
    {
      "cell_type": "code",
      "source": [
        "from pandas.core.frame import DataFrame\n",
        "sentiment140test = pd.read_csv(\"/content/new_testdata.manual.2009.06.14.csv\",header=None,error_bad_lines=False,engine='python',encoding='latin1')\n",
        "sentiment140=pd.read_csv(\"/content/training.1600000.processed.noemoticon.csv\",header=None,error_bad_lines=False,engine='python',encoding='latin1')\n"
      ],
      "metadata": {
        "id": "xGnJsS7RP3NL",
        "colab": {
          "base_uri": "https://localhost:8080/"
        },
        "outputId": "bc781aa4-3dd5-4ec8-ed51-560be2f6dcef"
      },
      "execution_count": 5,
      "outputs": [
        {
          "output_type": "stream",
          "name": "stderr",
          "text": [
            "/usr/local/lib/python3.7/dist-packages/IPython/core/interactiveshell.py:2882: FutureWarning: The error_bad_lines argument has been deprecated and will be removed in a future version.\n",
            "\n",
            "\n",
            "  exec(code_obj, self.user_global_ns, self.user_ns)\n"
          ]
        }
      ]
    },
    {
      "cell_type": "code",
      "source": [
        "sentiment140=sentiment140.sample(frac=1).reset_index(drop=True)\n",
        "sentiment140 = sentiment140.iloc[:10000,:]"
      ],
      "metadata": {
        "id": "Rp32CSR1FFzb"
      },
      "execution_count": 6,
      "outputs": []
    },
    {
      "cell_type": "markdown",
      "source": [
        ""
      ],
      "metadata": {
        "id": "olVxZobjJ2H7"
      }
    },
    {
      "cell_type": "markdown",
      "source": [
        "# 新段落"
      ],
      "metadata": {
        "id": "A4w6ijF_7Yjx"
      }
    },
    {
      "cell_type": "code",
      "source": [
        "print(sentiment140.dtypes)\n",
        "print(sentiment140)"
      ],
      "metadata": {
        "id": "IHwJ3JbEycwm"
      },
      "execution_count": null,
      "outputs": []
    },
    {
      "cell_type": "code",
      "source": [
        "from sklearn.feature_extraction.text import CountVectorizer\n",
        "categories = ['0','4']\n",
        "count_vect = CountVectorizer()\n",
        "\n",
        "sample = pd.DataFrame(sentiment140[1].astype('str')+','\n",
        "            +sentiment140[2]+ ','+ sentiment140[3] + ',' +\n",
        "            sentiment140[4]+ ','+sentiment140[5], columns=['Output'])\n",
        "print(sample.shape)\n",
        "\n",
        "sample_test=pd.DataFrame(sentiment140test[1].astype('str')+','\n",
        "            +sentiment140test[2]+ ','+ sentiment140test[3] + ',' +\n",
        "            sentiment140test[4]+ ','+sentiment140test[5], columns=['Output'])\n",
        "\n",
        "y_train = sentiment140[0]\n",
        "y_test=sentiment140test[0]\n",
        "num_zero = 0\n",
        "num_four = 0\n",
        "for i in y_train:\n",
        "  if y_train[i] == 0:\n",
        "    num_zero +=1\n",
        "  elif y_train[i] == 4:\n",
        "    num_four +=1\n",
        "print(num_four)\n",
        "print(num_zero)\n",
        "\n",
        "\n",
        "\n",
        "\n",
        "\n",
        "X_train_tf = count_vect.fit_transform(sample['Output'])\n",
        "X_test_tf = count_vect.transform(sample_test['Output'])\n",
        "word_size = len(count_vect.vocabulary_)\n",
        "print(word_size)\n",
        "print(X_train_tf.shape)\n",
        "print(X_test_tf.shape)\n",
        "\n",
        "\n"
      ],
      "metadata": {
        "colab": {
          "base_uri": "https://localhost:8080/"
        },
        "id": "aLJO7wIXt-4N",
        "outputId": "db23adad-3858-4f98-f775-94019df1a1b6"
      },
      "execution_count": 7,
      "outputs": [
        {
          "output_type": "stream",
          "name": "stdout",
          "text": [
            "(10000, 1)\n",
            "5003\n",
            "4997\n",
            "38250\n",
            "(10000, 38250)\n",
            "(359, 38250)\n"
          ]
        }
      ]
    },
    {
      "cell_type": "code",
      "source": [
        "\n",
        "class MultiNomialNaiveBayes:\n",
        "    def __init__(self, alpha=0.001):\n",
        "        self.alpha = alpha\n",
        "\n",
        "\n",
        "    def fit(self, x, y):\n",
        "        self.x = x # list of category lists\n",
        "        self.y = y  # list of output values\n",
        "        # self.IDF = False\n",
        "        C = np.max(y) + 1\n",
        "        self.C = C  # number of categories e.g 0/1 0/1/2\n",
        "        # This can be found in NaiveBayes.get_data_20newsgroups()\n",
        "        self.size_vocab = word_size  # ? number of words in rows\n",
        "        self.total_wc_for_class, self.wc = Counter(), Counter()  # total word count in all documents labelled c, counts of word d in all documents labelled c\n",
        "        categoryCounter = [0 for _ in range(C)]  # number of instances in class c , create a list with c [0,0,0,0,0] with size C\n",
        "        for i, (features, label) in enumerate(zip(x, y)):\n",
        "            for wrd, freq in features.items():  # feature is dictionary ,feature.items() is list of tuples,key: wrd ,value: freq\n",
        "                self.wc[wrd, label] += freq  # (wrd,label) becomes the new key\n",
        "                self.total_wc_for_class[label] += freq\n",
        "            categoryCounter[label] += 1  # each index represents the category of y,the corresponding value to index is the frequency of category\n",
        "        self.Nc = np.array(categoryCounter)\n",
        "        self.probability_class = np.zeros(C)  # ?\n",
        "        # C -> largest category number plus 1\n",
        "        self.probability_class = np.array([categoryCounter[c] for c in range(C)]) / len(self.y)  # compute the prior probability for each category\n",
        "        self.word_prob_in_class = dict()\n",
        "\n",
        "        self.word_prob_in_class = {(wrd, c): (self.wc[wrd, c] + self.alpha) / (self.total_wc_for_class[c] + self.alpha * self.size_vocab)for c in range(self.C) for wrd in range(self.size_vocab)}\n",
        "\n",
        "    def predict(self, x_test):\n",
        "        return np.array([self.process_tmp_cnt(x).index(max(self.process_tmp_cnt(x)))for x in x_test])\n",
        "\n",
        "    def process_tmp_cnt(self, tmp_cnt):\n",
        "        res = []\n",
        "        for c in range(self.C):\n",
        "          if self.probability_class[c] > 0:\n",
        "            res.append(log(self.probability_class[c]))\n",
        "          else:\n",
        "            res.append(0)\n",
        "          for wrd, freq in tmp_cnt.items():\n",
        "              p = self.word_prob_in_class[wrd, c]\n",
        "              res[-1] += freq * log(p)\n",
        "        return res"
      ],
      "metadata": {
        "id": "_PW1PMcx2XZY"
      },
      "execution_count": 8,
      "outputs": []
    },
    {
      "cell_type": "markdown",
      "source": [
        "# 新段落"
      ],
      "metadata": {
        "id": "uZp0y0nPQzRz"
      }
    },
    {
      "cell_type": "code",
      "source": [
        "def evaluate_acc(y_pred,y_test):\n",
        "  return np.sum(y_pred == y_test)/y_pred.shape[0]"
      ],
      "metadata": {
        "id": "XeezLuJJ4oZU"
      },
      "execution_count": 9,
      "outputs": []
    },
    {
      "cell_type": "code",
      "source": [
        "\n",
        "def cross_validation_split(x_train,y_train,n, n_folds=5): #n is the matrix\n",
        "    #get the number of data samples in each split\n",
        "    n_val = n // n_folds\n",
        "    folds = []\n",
        "    for f in range(n_folds):\n",
        "      start = n // 5 * f\n",
        "      end = n // 5 * (f+1)\n",
        "      x_train_new = x_train[start:end]\n",
        "      y_train_new = y_train[start:end]\n",
        "      try:\n",
        "        x_valid = sparse.vstack((x_train[:start],x_train[end:]))\n",
        "      except:\n",
        "        x_valid = np.append(x_train[:start],x_train[end:])\n",
        "      y_valid = np.append(y_train[:start],y_train[end:])\n",
        "      folds.append([x_train_new,x_valid,y_train_new,y_valid])\n",
        "    return folds"
      ],
      "metadata": {
        "id": "4oXNfePY-JDX"
      },
      "execution_count": 10,
      "outputs": []
    },
    {
      "cell_type": "code",
      "source": [
        "num_folds = 5"
      ],
      "metadata": {
        "id": "SURMI4U4-Jvx"
      },
      "execution_count": 11,
      "outputs": []
    },
    {
      "cell_type": "code",
      "source": [
        "\n",
        "def kfoldCV(n,x_train, y_train, model):\n",
        "    accuracy = []\n",
        "    for combo in cross_validation_split(x_train,y_train,n, n_folds=5):\n",
        "        #Bulid model here (create a regression model here, call in model)\n",
        "        model.fit(combo[0], combo[2])\n",
        "        #err_valid[i, f] = loss(y_rest[val], model.predict(x_train_split[val]))\n",
        "        test_return=model.predict(combo[1])\n",
        "        accuracy.append(evaluate_acc(combo[3],test_return))\n",
        "        #print(accuracy[i, f])\n",
        "        #err_test[i, f]= loss(y_test, model.predict(x_test))\n",
        "        #print(err_valid[i, f])\n",
        "        #print(err_test[i, f])\n",
        "    return sum(accuracy)/len(accuracy)\n",
        "#kfoldCV(X_train_tf.shape[0],X_train_tf,twenty_train.target,LogisticRegression(solver='saga',multi_class='ovr',max_iter=1000,penalty='l1'))"
      ],
      "metadata": {
        "id": "ZJNfEAnNGLxR"
      },
      "execution_count": 12,
      "outputs": []
    },
    {
      "cell_type": "code",
      "source": [
        "def logisRegression():\n",
        "  mx_iters = []\n",
        "  loss_fn = []\n",
        "  classes = []\n",
        "  accuracy = []\n",
        "  for i in range(100):\n",
        "    classes.append(choice(['multinomial', 'ovr']))\n",
        "    loss_fn.append(choice(['l1', 'l2']))\n",
        "    mx_iters.append(np.random.randint(10000, 20000))\n",
        "\n",
        "  models = [LogisticRegression(solver='saga',multi_class=cls,max_iter=itr,penalty=ls_fn) for cls,itr, ls_fn in zip(classes,mx_iters, loss_fn)]\n",
        "  #accuracy = np.zeros((len(models), num_folds))\n",
        "  for i in range(len(models)):\n",
        "    acc = kfoldCV(X_train_tf.shape[0], X_train_tf, y_train, models[i])\n",
        "    accuracy.append(acc)\n",
        "    print(acc)\n",
        "  val = max(accuracy)\n",
        "  idx = accuracy.index(val)\n",
        "  print(idx)\n",
        "  print(models[idx])\n",
        "  best_model = models[idx].fit(X_train_tf,y_train)\n",
        "  test_return = best_model.predict(X_test_tf)\n",
        "  return evaluate_acc(y_test,test_return)\n",
        "  \n",
        "logisRegression()"
      ],
      "metadata": {
        "id": "kRRmEONeOtX2",
        "colab": {
          "base_uri": "https://localhost:8080/"
        },
        "outputId": "3e89ec55-1cf0-4ed2-a1db-086af218ce69"
      },
      "execution_count": 13,
      "outputs": [
        {
          "output_type": "stream",
          "name": "stdout",
          "text": [
            "0.724075\n",
            "0.7230000000000001\n",
            "0.724125\n",
            "0.7189\n",
            "0.724075\n",
            "0.724175\n",
            "0.7189\n",
            "0.72295\n",
            "0.7188999999999999\n",
            "0.7188749999999999\n",
            "0.7241250000000001\n",
            "0.7240500000000001\n",
            "0.7189\n",
            "0.71885\n",
            "0.72305\n",
            "0.7230500000000001\n",
            "0.724075\n",
            "0.718825\n",
            "0.7189\n",
            "0.7189\n",
            "0.7189249999999999\n",
            "0.7241250000000001\n",
            "0.7189249999999999\n",
            "0.7230000000000001\n",
            "0.724075\n",
            "0.71885\n",
            "0.7241500000000001\n",
            "0.723025\n",
            "0.724075\n",
            "0.71895\n",
            "0.72295\n",
            "0.7188999999999999\n",
            "0.71885\n",
            "0.7189249999999999\n",
            "0.7229500000000001\n",
            "0.7189249999999999\n",
            "0.71885\n",
            "0.723075\n",
            "0.7189249999999999\n",
            "0.71885\n",
            "0.723025\n",
            "0.723025\n",
            "0.71885\n",
            "0.71885\n",
            "0.7189\n",
            "0.7230000000000001\n",
            "0.724125\n",
            "0.7189249999999999\n",
            "0.723075\n",
            "0.724075\n",
            "0.7231\n",
            "0.7240500000000001\n",
            "0.7230000000000001\n",
            "0.7189\n",
            "0.7230000000000001\n",
            "0.7230000000000001\n",
            "0.718925\n",
            "0.724175\n",
            "0.723025\n",
            "0.7241000000000001\n",
            "0.7241000000000001\n",
            "0.7189\n",
            "0.724175\n",
            "0.7189249999999999\n",
            "0.71885\n",
            "0.724175\n",
            "0.7230500000000001\n",
            "0.723025\n",
            "0.7229749999999999\n",
            "0.7189249999999999\n",
            "0.7189\n",
            "0.7189\n",
            "0.718825\n",
            "0.723\n",
            "0.7242\n",
            "0.7240500000000001\n",
            "0.7189499999999999\n",
            "0.7189749999999999\n",
            "0.723075\n",
            "0.7241000000000001\n",
            "0.723075\n",
            "0.7189249999999999\n",
            "0.718875\n",
            "0.7189249999999999\n",
            "0.7189249999999999\n",
            "0.7189249999999999\n",
            "0.7189499999999999\n",
            "0.71885\n",
            "0.7188749999999999\n",
            "0.7189\n",
            "0.724075\n",
            "0.718825\n",
            "0.7189499999999999\n",
            "0.7189\n",
            "0.724\n",
            "0.7189749999999999\n",
            "0.7189\n",
            "0.7241000000000002\n",
            "0.7189499999999999\n",
            "0.723075\n",
            "74\n",
            "LogisticRegression(max_iter=17032, multi_class='multinomial', solver='saga')\n"
          ]
        },
        {
          "output_type": "execute_result",
          "data": {
            "text/plain": [
              "0.724233983286908"
            ]
          },
          "metadata": {},
          "execution_count": 13
        }
      ]
    },
    {
      "cell_type": "code",
      "source": [
        "\n",
        "def process_NB_data(x, y):\n",
        "    tmp = scipy.sparse.coo_matrix(x)\n",
        "    lst = [Counter() for _ in range(len(y))]\n",
        "    for doc_idx, wrd, freq in zip(tmp.row, tmp.col, tmp.data):\n",
        "        lst[doc_idx][wrd] += freq\n",
        "    return lst"
      ],
      "metadata": {
        "id": "M_yx4LNjr6qd"
      },
      "execution_count": 14,
      "outputs": []
    },
    {
      "cell_type": "code",
      "source": [
        "def naivebayes():\n",
        "  x_tr = process_NB_data(X_train_tf, y_train)\n",
        "  x_te = process_NB_data(X_test_tf, y_test)\n",
        "  A = []\n",
        "  for i in range(1,101):\n",
        "    al = i / 100\n",
        "    #print(al)\n",
        "    A.append(al)\n",
        "  models = [MultiNomialNaiveBayes(alpha = al) for al in A]\n",
        "  accuracy = []\n",
        "  for i in range(len(models)):\n",
        "    acc = kfoldCV(len(x_tr), x_tr, y_train, models[i])\n",
        "    accuracy.append(acc)\n",
        "    print(acc)\n",
        "  val = max(accuracy)\n",
        "  idx = accuracy.index(val)\n",
        "  print(A[idx])\n",
        "  models[idx].fit(x_tr,y_train)\n",
        "  test_return = models[idx].predict(x_te)\n",
        "  return evaluate_acc(y_test,test_return)\n",
        "naivebayes()\n"
      ],
      "metadata": {
        "colab": {
          "base_uri": "https://localhost:8080/"
        },
        "id": "FKDiwupuNfpk",
        "outputId": "c995ec21-68cd-415c-dda8-10338701c806"
      },
      "execution_count": 17,
      "outputs": [
        {
          "output_type": "stream",
          "name": "stdout",
          "text": [
            "0.66985\n",
            "0.6751750000000001\n",
            "0.6786749999999999\n",
            "0.68165\n",
            "0.683975\n",
            "0.6859249999999999\n",
            "0.687325\n",
            "0.6891749999999999\n",
            "0.69065\n",
            "0.69155\n",
            "0.69295\n",
            "0.693975\n",
            "0.695025\n",
            "0.696275\n",
            "0.6968249999999999\n",
            "0.6977\n",
            "0.6984250000000001\n",
            "0.6992499999999999\n",
            "0.7000499999999998\n",
            "0.7006749999999999\n",
            "0.7012499999999999\n",
            "0.7018500000000001\n",
            "0.7021499999999999\n",
            "0.702875\n",
            "0.703475\n",
            "0.703975\n",
            "0.7043\n",
            "0.7050000000000001\n",
            "0.705275\n",
            "0.705775\n",
            "0.706025\n",
            "0.7064\n",
            "0.7069750000000001\n",
            "0.707525\n",
            "0.7078750000000001\n",
            "0.708075\n",
            "0.70805\n",
            "0.7083499999999999\n",
            "0.70855\n",
            "0.709075\n",
            "0.7093\n",
            "0.7097\n",
            "0.7098\n",
            "0.7103499999999999\n",
            "0.71095\n",
            "0.7111750000000001\n",
            "0.7116250000000001\n",
            "0.71155\n",
            "0.712025\n",
            "0.712375\n",
            "0.7123750000000001\n",
            "0.712525\n",
            "0.7125\n",
            "0.71255\n",
            "0.7128\n",
            "0.7131000000000001\n",
            "0.7132750000000001\n",
            "0.7133750000000001\n",
            "0.7134\n",
            "0.7134500000000001\n",
            "0.7135\n",
            "0.7135499999999999\n",
            "0.7139749999999999\n",
            "0.7143\n",
            "0.714125\n",
            "0.714225\n",
            "0.7146\n",
            "0.71495\n",
            "0.7151249999999999\n",
            "0.715\n",
            "0.7148749999999999\n",
            "0.715075\n",
            "0.7152999999999999\n",
            "0.715325\n",
            "0.71535\n",
            "0.7154\n",
            "0.7153500000000002\n",
            "0.7152749999999999\n",
            "0.7152499999999999\n",
            "0.7153500000000002\n",
            "0.715275\n",
            "0.715525\n",
            "0.7155250000000001\n",
            "0.7154999999999999\n",
            "0.7158\n",
            "0.71585\n",
            "0.715975\n",
            "0.715775\n",
            "0.7156999999999999\n",
            "0.7158249999999999\n",
            "0.7158749999999999\n",
            "0.7158499999999999\n",
            "0.7158999999999999\n",
            "0.715975\n",
            "0.71595\n",
            "0.716225\n",
            "0.7162499999999999\n",
            "0.716325\n",
            "0.7163\n",
            "0.716325\n",
            "0.98\n"
          ]
        },
        {
          "output_type": "execute_result",
          "data": {
            "text/plain": [
              "0.7158774373259053"
            ]
          },
          "metadata": {},
          "execution_count": 17
        }
      ]
    },
    {
      "cell_type": "markdown",
      "source": [
        "when we use stop words on the best model of kfold regression, and test for the accuarcy on test set"
      ],
      "metadata": {
        "id": "_pXLqd3-THO3"
      }
    },
    {
      "cell_type": "code",
      "source": [
        "count_vect_extra1 = CountVectorizer(stop_words=\"english\")\n",
        "x_train_extra1 = count_vect_extra1.fit_transform(sample['Output'])\n",
        "x_test_extra1 = count_vect_extra1.transform(sample_test['Output'])\n",
        "extra_model = LogisticRegression(max_iter=17032,multi_class='multinomial',solver='saga')\n",
        "extra_model.fit(x_train_extra1,y_train)\n",
        "acc_extra1 = evaluate_acc(y_test,extra_model.predict(x_test_extra1))\n",
        "print(acc_extra1)"
      ],
      "metadata": {
        "colab": {
          "base_uri": "https://localhost:8080/"
        },
        "id": "f5EY_lHiS9Gc",
        "outputId": "5f7bc911-3c4f-42c9-f07b-08b3d7ceab58"
      },
      "execution_count": 18,
      "outputs": [
        {
          "output_type": "stream",
          "name": "stdout",
          "text": [
            "0.7576601671309192\n"
          ]
        }
      ]
    },
    {
      "cell_type": "markdown",
      "source": [
        ""
      ],
      "metadata": {
        "id": "dlKmbb6mWhnV"
      }
    },
    {
      "cell_type": "markdown",
      "source": [
        "when we use our own vocabulary documents on the best model of kfold regression, and test for the accuracy on the test set"
      ],
      "metadata": {
        "id": "ctHiRouSZUc8"
      }
    },
    {
      "cell_type": "code",
      "source": [
        "with open(\"/content/vocabulary.txt\", \"r\") as f:\n",
        "  words = f.read().splitlines()\n",
        "count_vect_extra2 = CountVectorizer(vocabulary = words)\n",
        "x_train_extra2 = count_vect_extra2.fit_transform(sample['Output'])\n",
        "x_test_extra2 = count_vect_extra2.transform(sample_test['Output'])\n",
        "extra_model = LogisticRegression(max_iter=17032,multi_class='multinomial',solver='saga')\n",
        "extra_model.fit(x_train_extra2,y_train)\n",
        "acc_extra2 = evaluate_acc(y_test,extra_model.predict(x_test_extra2))\n",
        "print(acc_extra2)"
      ],
      "metadata": {
        "colab": {
          "base_uri": "https://localhost:8080/"
        },
        "id": "qIzBR5gLZxg0",
        "outputId": "8a6ab8dc-b623-4c31-e6ab-7b5100ef6f12"
      },
      "execution_count": 19,
      "outputs": [
        {
          "output_type": "stream",
          "name": "stderr",
          "text": [
            "/usr/local/lib/python3.7/dist-packages/sklearn/feature_extraction/text.py:1323: UserWarning: Upper case characters found in vocabulary while 'lowercase' is True. These entries will not be matched with any documents\n",
            "  \"Upper case characters found in\"\n"
          ]
        },
        {
          "output_type": "stream",
          "name": "stdout",
          "text": [
            "0.7270194986072424\n"
          ]
        }
      ]
    },
    {
      "cell_type": "code",
      "source": [
        "def training_with_different_proportions(x_train, y_train, x_test, y_test, model, ratio):\n",
        "  length = len(y_train)\n",
        "  end_idx = int(length * ratio)\n",
        "  x_train = x_train[:end_idx]\n",
        "  y_train = y_train[:end_idx]\n",
        "  model.fit(x_train,y_train)\n",
        "  test_return = model.predict(x_test)\n",
        "  return evaluate_acc(y_test, test_return)\n",
        "\n",
        "x_tr = process_NB_data(X_train_tf, y_train)\n",
        "x_te = process_NB_data(X_test_tf, y_test)\n",
        "\n",
        "acc_list = []\n",
        "acc_list_1 = []\n",
        "for ratio in range(2, 10, 2):\n",
        "  ratio = ratio / 10\n",
        "  acc_list_1.append(training_with_different_proportions(x_tr, y_train, x_te, y_test, MultiNomialNaiveBayes(alpha = 0.98), ratio))\n",
        "  \n",
        "xAxis = [0.2, 0.4, 0.6, 0.8]\n",
        "\n",
        "\n",
        "plt.plot(xAxis,acc_list_1)\n",
        "plt.title('accuracy of 5fold multinomial naive bayes with different training size(sentiment 140)')\n",
        "plt.xlabel('proportion of available training data used')\n",
        "plt.ylabel('accuarcy of the model')"
      ],
      "metadata": {
        "colab": {
          "base_uri": "https://localhost:8080/",
          "height": 312
        },
        "id": "SHFTU2YWkYZ3",
        "outputId": "47b448c3-782a-4d27-8e7f-4ba0317df040"
      },
      "execution_count": 22,
      "outputs": [
        {
          "output_type": "execute_result",
          "data": {
            "text/plain": [
              "Text(0, 0.5, 'accuarcy of the model')"
            ]
          },
          "metadata": {},
          "execution_count": 22
        },
        {
          "output_type": "display_data",
          "data": {
            "image/png": "[encoded data removed]",
            "text/plain": [
              "<Figure size 432x288 with 1 Axes>"
            ]
          },
          "metadata": {
            "needs_background": "light"
          }
        }
      ]
    },
    {
      "cell_type": "code",
      "source": [
        "acc_list = []\n",
        "for ratio in range(2, 10, 2):\n",
        "  ratio = ratio / 10\n",
        "  acc_list.append(training_with_different_proportions(X_train_tf, y_train, X_test_tf, y_test, LogisticRegression(max_iter=17032, multi_class='multinomial', solver='saga'), ratio))\n",
        "  \n",
        "xAxis = [0.2, 0.4, 0.6, 0.8]\n",
        "plt.plot(xAxis,acc_list)\n",
        "plt.title('accuracy of 5fold logistic regression with different training size(sentiment 140)')\n",
        "plt.xlabel('proportion of available training data used')\n",
        "plt.ylabel('accuarcy of the model')"
      ],
      "metadata": {
        "colab": {
          "base_uri": "https://localhost:8080/",
          "height": 312
        },
        "id": "4qzHjmhkkbyY",
        "outputId": "ebb0fa90-80b4-43bd-f981-006fb74f68c8"
      },
      "execution_count": 23,
      "outputs": [
        {
          "output_type": "execute_result",
          "data": {
            "text/plain": [
              "Text(0, 0.5, 'accuarcy of the model')"
            ]
          },
          "metadata": {},
          "execution_count": 23
        },
        {
          "output_type": "display_data",
          "data": {
            "image/png": "[encoded data removed]",
            "text/plain": [
              "<Figure size 432x288 with 1 Axes>"
            ]
          },
          "metadata": {
            "needs_background": "light"
          }
        }
      ]
    }
  ]
}